{
 "cells": [
  {
   "cell_type": "raw",
   "metadata": {},
   "source": [
    "'''\n",
    "Created on Jun 16, 2017\n",
    "\n",
    "@author: Diako Mardanbegi <dmardanbeigi@gmail.com>\n",
    "\n",
    "This file is part of the SaccadeMachine software - an interactive code for analysing Pro-saccade and Anti-saccade eye tracking experiments.\n",
    "\n",
    "--------------License--------------\n",
    "This program is free software: you can redistribute it and/or modify\n",
    "it under the terms of the GNU General Public License as published by\n",
    "the Free Software Foundation, either version 3 of the License, or\n",
    "(at your option) any later version.\n",
    "This program is distributed in the hope that it will be useful,\n",
    "but WITHOUT ANY WARRANTY; without even the implied warranty of\n",
    "MERCHANTABILITY or FITNESS FOR A PARTICULAR PURPOSE.  See the\n",
    "GNU General Public License for more details.\n",
    "You should have received a copy of the GNU General Public License\n",
    "along with this program.  If not, see <http://www.gnu.org/licenses/>\n",
    "'''"
   ]
  },
  {
   "cell_type": "markdown",
   "metadata": {},
   "source": [
    "---------------------------------------------------------------"
   ]
  },
  {
   "cell_type": "markdown",
   "metadata": {
    "slideshow": {
     "slide_type": "slide"
    }
   },
   "source": [
    "<a id='load_dataset'></a>\n",
    "# Load Dataset\n"
   ]
  },
  {
   "cell_type": "code",
   "execution_count": 1,
   "metadata": {
    "code_folding": [
     0
    ],
    "scrolled": false,
    "slideshow": {
     "slide_type": "subslide"
    }
   },
   "outputs": [
    {
     "data": {
      "application/vnd.jupyter.widget-view+json": {
       "model_id": "caf71446121149c49683de0467e5b468",
       "version_major": 2,
       "version_minor": 0
      },
      "text/plain": [
       "Box(children=(Dropdown(description='Select Dataset Folder', layout=Layout(flex='3 1 auto', width='auto'), opti…"
      ]
     },
     "metadata": {},
     "output_type": "display_data"
    }
   ],
   "source": [
    "# Loading the main functions\n",
    "%run ./main_tools.ipynb\n",
    "display_box_load()"
   ]
  },
  {
   "cell_type": "markdown",
   "metadata": {},
   "source": [
    "# Analysis for time window"
   ]
  },
  {
   "cell_type": "code",
   "execution_count": 2,
   "metadata": {
    "code_folding": [
     0
    ],
    "scrolled": true
   },
   "outputs": [
    {
     "data": {
      "application/vnd.jupyter.widget-view+json": {
       "model_id": "f4bb6c3529d14a20b897c815482d5878",
       "version_major": 2,
       "version_minor": 0
      },
      "text/plain": [
       "VBox(children=(HBox(children=(VBox(children=(HBox(children=(IntRangeSlider(value=(80, 800), description='Time …"
      ]
     },
     "metadata": {},
     "output_type": "display_data"
    }
   ],
   "source": [
    "# run this cell to see the UI\n",
    "\n",
    "%run ./analysis_tools.ipynb\n",
    "Display_analysis_UI()\n",
    "\n"
   ]
  },
  {
   "cell_type": "markdown",
   "metadata": {},
   "source": [
    "# <a id='gaze_quality'></a>\n",
    "# See overal data quality\n",
    "See the overal gaze tracking quality for all participants.\n",
    "\n",
    "This also indicates how well the participant fixated on the center target at the begining of the trial"
   ]
  },
  {
   "cell_type": "code",
   "execution_count": 3,
   "metadata": {
    "code_folding": [
     0
    ],
    "scrolled": false,
    "slideshow": {
     "slide_type": "subslide"
    }
   },
   "outputs": [
    {
     "data": {
      "image/png": "[encoded data removed]",
      "text/html": [
       "\n",
       "\n",
       "<style>\n",
       "\n",
       "</style>\n",
       "\n",
       "<div id=\"fig_el415625742599783042631649199\"></div>\n",
       "<script>\n",
       "function mpld3_load_lib(url, callback){\n",
       "  var s = document.createElement('script');\n",
       "  s.src = url;\n",
       "  s.async = true;\n",
       "  s.onreadystatechange = s.onload = callback;\n",
       "  s.onerror = function(){console.warn(\"failed to load library \" + url);};\n",
       "  document.getElementsByTagName(\"head\")[0].appendChild(s);\n",
       "}\n",
       "\n",
       "if(typeof(mpld3) !== \"undefined\" && mpld3._mpld3IsLoaded){\n",
       "   // already loaded: just create the figure\n",
       "   !function(mpld3){\n",
       "       \n",
       "       mpld3.draw_figure(\"fig_el415625742599783042631649199\", {\"width\": 576.0, \"height\": 288.0, \"axes\": [{\"bbox\": [0.09715277777777778, 0.2455208333333333, 0.8803472222222223, 0.6955902777777778], \"xlim\": [0.0, 3.0], \"ylim\": [0.0, 1.0], \"xdomain\": [0.0, 3.0], \"ydomain\": [0.0, 1.0], \"xscale\": \"linear\", \"yscale\": \"linear\", \"axes\": [{\"position\": \"bottom\", \"nticks\": 2, \"tickvalues\": [0, 2], \"tickformat_formatter\": \"\", \"tickformat\": null, \"scale\": \"linear\", \"fontsize\": 14.0, \"grid\": {\"gridOn\": false}, \"visible\": true}, {\"position\": \"left\", \"nticks\": 6, \"tickvalues\": null, \"tickformat_formatter\": \"\", \"tickformat\": null, \"scale\": \"linear\", \"fontsize\": 11.0, \"grid\": {\"gridOn\": false}, \"visible\": true}], \"axesbg\": \"#FFFFFF\", \"axesbgalpha\": null, \"zoomable\": true, \"id\": \"el41562574409340432\", \"lines\": [], \"paths\": [{\"data\": \"data01\", \"xindex\": 0, \"yindex\": 1, \"coordinates\": \"data\", \"pathcodes\": [\"M\", \"L\", \"L\", \"L\", \"Z\"], \"id\": \"el41562574409603104\", \"dasharray\": \"none\", \"alpha\": 1, \"facecolor\": \"#F37963\", \"edgecolor\": \"#FFFFFF\", \"edgewidth\": 1.0, \"zorder\": 1}, {\"data\": \"data02\", \"xindex\": 0, \"yindex\": 1, \"coordinates\": \"data\", \"pathcodes\": [\"M\", \"L\", \"L\", \"L\", \"Z\"], \"id\": \"el41562574409602768\", \"dasharray\": \"none\", \"alpha\": 1, \"facecolor\": \"#F2755F\", \"edgecolor\": \"#FFFFFF\", \"edgewidth\": 1.0, \"zorder\": 1}, {\"data\": \"data03\", \"xindex\": 0, \"yindex\": 1, \"coordinates\": \"data\", \"pathcodes\": [\"M\", \"L\", \"L\", \"L\", \"Z\"], \"id\": \"el41562574409604496\", \"dasharray\": \"none\", \"alpha\": 1, \"facecolor\": \"#F37963\", \"edgecolor\": \"#FFFFFF\", \"edgewidth\": 1.0, \"zorder\": 1}], \"markers\": [], \"texts\": [{\"text\": \"Group\", \"position\": [0.5, -0.2183896570658413], \"coordinates\": \"axes\", \"h_anchor\": \"middle\", \"v_baseline\": \"hanging\", \"rotation\": -0.0, \"fontsize\": 14.0, \"color\": \"#262626\", \"alpha\": 1, \"zorder\": 3, \"id\": \"el41562574409342160\"}, {\"text\": \"Gaze quality score!\", \"position\": [-0.05719018695274907, 0.5], \"coordinates\": \"axes\", \"h_anchor\": \"middle\", \"v_baseline\": \"auto\", \"rotation\": -90.0, \"fontsize\": 14.0, \"color\": \"#262626\", \"alpha\": 1, \"zorder\": 3, \"id\": \"el41562574409248672\"}], \"collections\": [], \"images\": [], \"sharex\": [], \"sharey\": []}], \"data\": {\"data01\": [[0.0, 0.0], [0.8, 0.0], [0.8, 0.8307455093476372], [0.0, 0.8307455093476372]], \"data02\": [[1.0, 0.0], [1.8, 0.0], [1.8, 0.810468867449969], [1.0, 0.810468867449969]], \"data03\": [[2.0, 0.0], [2.8, 0.0], [2.8, 0.8396022998475418], [2.0, 0.8396022998475418]]}, \"id\": \"el41562574259978304\", \"plugins\": [{\"type\": \"reset\"}, {\"type\": \"zoom\", \"button\": true, \"enabled\": false}, {\"type\": \"boxzoom\", \"button\": true, \"enabled\": false}, {\"type\": \"tooltip\", \"id\": \"el41562574409603104\", \"labels\": [\"CP001CTA\"], \"hoffset\": 0, \"voffset\": 10, \"location\": \"mouse\"}, {\"type\": \"tooltip\", \"id\": \"el41562574409602768\", \"labels\": [\"AW001CG\"], \"hoffset\": 0, \"voffset\": 10, \"location\": \"mouse\"}, {\"type\": \"tooltip\", \"id\": \"el41562574409604496\", \"labels\": [\"AW002AF\"], \"hoffset\": 0, \"voffset\": 10, \"location\": \"mouse\"}]});\n",
       "   }(mpld3);\n",
       "}else if(typeof define === \"function\" && define.amd){\n",
       "   // require.js is available: use it to load d3/mpld3\n",
       "   require.config({paths: {d3: \"https://d3js.org/d3.v5\"}});\n",
       "   require([\"d3\"], function(d3){\n",
       "      window.d3 = d3;\n",
       "      mpld3_load_lib(\"https://mpld3.github.io/js/mpld3.v0.5.8.js\", function(){\n",
       "         \n",
       "         mpld3.draw_figure(\"fig_el415625742599783042631649199\", {\"width\": 576.0, \"height\": 288.0, \"axes\": [{\"bbox\": [0.09715277777777778, 0.2455208333333333, 0.8803472222222223, 0.6955902777777778], \"xlim\": [0.0, 3.0], \"ylim\": [0.0, 1.0], \"xdomain\": [0.0, 3.0], \"ydomain\": [0.0, 1.0], \"xscale\": \"linear\", \"yscale\": \"linear\", \"axes\": [{\"position\": \"bottom\", \"nticks\": 2, \"tickvalues\": [0, 2], \"tickformat_formatter\": \"\", \"tickformat\": null, \"scale\": \"linear\", \"fontsize\": 14.0, \"grid\": {\"gridOn\": false}, \"visible\": true}, {\"position\": \"left\", \"nticks\": 6, \"tickvalues\": null, \"tickformat_formatter\": \"\", \"tickformat\": null, \"scale\": \"linear\", \"fontsize\": 11.0, \"grid\": {\"gridOn\": false}, \"visible\": true}], \"axesbg\": \"#FFFFFF\", \"axesbgalpha\": null, \"zoomable\": true, \"id\": \"el41562574409340432\", \"lines\": [], \"paths\": [{\"data\": \"data01\", \"xindex\": 0, \"yindex\": 1, \"coordinates\": \"data\", \"pathcodes\": [\"M\", \"L\", \"L\", \"L\", \"Z\"], \"id\": \"el41562574409603104\", \"dasharray\": \"none\", \"alpha\": 1, \"facecolor\": \"#F37963\", \"edgecolor\": \"#FFFFFF\", \"edgewidth\": 1.0, \"zorder\": 1}, {\"data\": \"data02\", \"xindex\": 0, \"yindex\": 1, \"coordinates\": \"data\", \"pathcodes\": [\"M\", \"L\", \"L\", \"L\", \"Z\"], \"id\": \"el41562574409602768\", \"dasharray\": \"none\", \"alpha\": 1, \"facecolor\": \"#F2755F\", \"edgecolor\": \"#FFFFFF\", \"edgewidth\": 1.0, \"zorder\": 1}, {\"data\": \"data03\", \"xindex\": 0, \"yindex\": 1, \"coordinates\": \"data\", \"pathcodes\": [\"M\", \"L\", \"L\", \"L\", \"Z\"], \"id\": \"el41562574409604496\", \"dasharray\": \"none\", \"alpha\": 1, \"facecolor\": \"#F37963\", \"edgecolor\": \"#FFFFFF\", \"edgewidth\": 1.0, \"zorder\": 1}], \"markers\": [], \"texts\": [{\"text\": \"Group\", \"position\": [0.5, -0.2183896570658413], \"coordinates\": \"axes\", \"h_anchor\": \"middle\", \"v_baseline\": \"hanging\", \"rotation\": -0.0, \"fontsize\": 14.0, \"color\": \"#262626\", \"alpha\": 1, \"zorder\": 3, \"id\": \"el41562574409342160\"}, {\"text\": \"Gaze quality score!\", \"position\": [-0.05719018695274907, 0.5], \"coordinates\": \"axes\", \"h_anchor\": \"middle\", \"v_baseline\": \"auto\", \"rotation\": -90.0, \"fontsize\": 14.0, \"color\": \"#262626\", \"alpha\": 1, \"zorder\": 3, \"id\": \"el41562574409248672\"}], \"collections\": [], \"images\": [], \"sharex\": [], \"sharey\": []}], \"data\": {\"data01\": [[0.0, 0.0], [0.8, 0.0], [0.8, 0.8307455093476372], [0.0, 0.8307455093476372]], \"data02\": [[1.0, 0.0], [1.8, 0.0], [1.8, 0.810468867449969], [1.0, 0.810468867449969]], \"data03\": [[2.0, 0.0], [2.8, 0.0], [2.8, 0.8396022998475418], [2.0, 0.8396022998475418]]}, \"id\": \"el41562574259978304\", \"plugins\": [{\"type\": \"reset\"}, {\"type\": \"zoom\", \"button\": true, \"enabled\": false}, {\"type\": \"boxzoom\", \"button\": true, \"enabled\": false}, {\"type\": \"tooltip\", \"id\": \"el41562574409603104\", \"labels\": [\"CP001CTA\"], \"hoffset\": 0, \"voffset\": 10, \"location\": \"mouse\"}, {\"type\": \"tooltip\", \"id\": \"el41562574409602768\", \"labels\": [\"AW001CG\"], \"hoffset\": 0, \"voffset\": 10, \"location\": \"mouse\"}, {\"type\": \"tooltip\", \"id\": \"el41562574409604496\", \"labels\": [\"AW002AF\"], \"hoffset\": 0, \"voffset\": 10, \"location\": \"mouse\"}]});\n",
       "      });\n",
       "    });\n",
       "}else{\n",
       "    // require.js not available: dynamically load d3 & mpld3\n",
       "    mpld3_load_lib(\"https://d3js.org/d3.v5.js\", function(){\n",
       "         mpld3_load_lib(\"https://mpld3.github.io/js/mpld3.v0.5.8.js\", function(){\n",
       "                 \n",
       "                 mpld3.draw_figure(\"fig_el415625742599783042631649199\", {\"width\": 576.0, \"height\": 288.0, \"axes\": [{\"bbox\": [0.09715277777777778, 0.2455208333333333, 0.8803472222222223, 0.6955902777777778], \"xlim\": [0.0, 3.0], \"ylim\": [0.0, 1.0], \"xdomain\": [0.0, 3.0], \"ydomain\": [0.0, 1.0], \"xscale\": \"linear\", \"yscale\": \"linear\", \"axes\": [{\"position\": \"bottom\", \"nticks\": 2, \"tickvalues\": [0, 2], \"tickformat_formatter\": \"\", \"tickformat\": null, \"scale\": \"linear\", \"fontsize\": 14.0, \"grid\": {\"gridOn\": false}, \"visible\": true}, {\"position\": \"left\", \"nticks\": 6, \"tickvalues\": null, \"tickformat_formatter\": \"\", \"tickformat\": null, \"scale\": \"linear\", \"fontsize\": 11.0, \"grid\": {\"gridOn\": false}, \"visible\": true}], \"axesbg\": \"#FFFFFF\", \"axesbgalpha\": null, \"zoomable\": true, \"id\": \"el41562574409340432\", \"lines\": [], \"paths\": [{\"data\": \"data01\", \"xindex\": 0, \"yindex\": 1, \"coordinates\": \"data\", \"pathcodes\": [\"M\", \"L\", \"L\", \"L\", \"Z\"], \"id\": \"el41562574409603104\", \"dasharray\": \"none\", \"alpha\": 1, \"facecolor\": \"#F37963\", \"edgecolor\": \"#FFFFFF\", \"edgewidth\": 1.0, \"zorder\": 1}, {\"data\": \"data02\", \"xindex\": 0, \"yindex\": 1, \"coordinates\": \"data\", \"pathcodes\": [\"M\", \"L\", \"L\", \"L\", \"Z\"], \"id\": \"el41562574409602768\", \"dasharray\": \"none\", \"alpha\": 1, \"facecolor\": \"#F2755F\", \"edgecolor\": \"#FFFFFF\", \"edgewidth\": 1.0, \"zorder\": 1}, {\"data\": \"data03\", \"xindex\": 0, \"yindex\": 1, \"coordinates\": \"data\", \"pathcodes\": [\"M\", \"L\", \"L\", \"L\", \"Z\"], \"id\": \"el41562574409604496\", \"dasharray\": \"none\", \"alpha\": 1, \"facecolor\": \"#F37963\", \"edgecolor\": \"#FFFFFF\", \"edgewidth\": 1.0, \"zorder\": 1}], \"markers\": [], \"texts\": [{\"text\": \"Group\", \"position\": [0.5, -0.2183896570658413], \"coordinates\": \"axes\", \"h_anchor\": \"middle\", \"v_baseline\": \"hanging\", \"rotation\": -0.0, \"fontsize\": 14.0, \"color\": \"#262626\", \"alpha\": 1, \"zorder\": 3, \"id\": \"el41562574409342160\"}, {\"text\": \"Gaze quality score!\", \"position\": [-0.05719018695274907, 0.5], \"coordinates\": \"axes\", \"h_anchor\": \"middle\", \"v_baseline\": \"auto\", \"rotation\": -90.0, \"fontsize\": 14.0, \"color\": \"#262626\", \"alpha\": 1, \"zorder\": 3, \"id\": \"el41562574409248672\"}], \"collections\": [], \"images\": [], \"sharex\": [], \"sharey\": []}], \"data\": {\"data01\": [[0.0, 0.0], [0.8, 0.0], [0.8, 0.8307455093476372], [0.0, 0.8307455093476372]], \"data02\": [[1.0, 0.0], [1.8, 0.0], [1.8, 0.810468867449969], [1.0, 0.810468867449969]], \"data03\": [[2.0, 0.0], [2.8, 0.0], [2.8, 0.8396022998475418], [2.0, 0.8396022998475418]]}, \"id\": \"el41562574259978304\", \"plugins\": [{\"type\": \"reset\"}, {\"type\": \"zoom\", \"button\": true, \"enabled\": false}, {\"type\": \"boxzoom\", \"button\": true, \"enabled\": false}, {\"type\": \"tooltip\", \"id\": \"el41562574409603104\", \"labels\": [\"CP001CTA\"], \"hoffset\": 0, \"voffset\": 10, \"location\": \"mouse\"}, {\"type\": \"tooltip\", \"id\": \"el41562574409602768\", \"labels\": [\"AW001CG\"], \"hoffset\": 0, \"voffset\": 10, \"location\": \"mouse\"}, {\"type\": \"tooltip\", \"id\": \"el41562574409604496\", \"labels\": [\"AW002AF\"], \"hoffset\": 0, \"voffset\": 10, \"location\": \"mouse\"}]});\n",
       "            })\n",
       "         });\n",
       "}\n",
       "</script>"
      ],
      "text/plain": [
       "<Figure size 576x288 with 1 Axes>"
      ]
     },
     "metadata": {},
     "output_type": "display_data"
    }
   ],
   "source": [
    "# Gaze tracking quality\n",
    "PlotGazeQuality()\n",
    "# GAZE_QUALITY_TABLE[GAZE_QUALITY_TABLE.name=='mw046tw']\n",
    "# GAZE_QUALITY_TABLE.sort_values('score_overall').loc[:,['name','score_overall']].head()"
   ]
  },
  {
   "cell_type": "markdown",
   "metadata": {},
   "source": [
    "# Calibration Offset"
   ]
  },
  {
   "cell_type": "markdown",
   "metadata": {},
   "source": [
    "Set the list below containing the name and the offset to be corrected:\n",
    "\n",
    "* e.g., CORRECT_OFFSETS_LIST={'NAME':(dX , dY )}\n",
    "\n",
    "Positive dX shifts the gaze to the right, and positive dY shifts the gaze down"
   ]
  },
  {
   "cell_type": "code",
   "execution_count": null,
   "metadata": {},
   "outputs": [],
   "source": [
    "CORRECT_OFFSETS_LIST={'MC181AC2':(0,0)}"
   ]
  },
  {
   "cell_type": "markdown",
   "metadata": {},
   "source": [
    "Calibration offsets detected by SaccadeMachine"
   ]
  },
  {
   "cell_type": "code",
   "execution_count": null,
   "metadata": {
    "code_folding": [
     0
    ]
   },
   "outputs": [],
   "source": [
    "## Run this cell to see the detected gaze offsets\n",
    "CORRECT_OFFSETS_LIST.update(SuggestGazeOffsetCorrectionList())\n",
    "CORRECT_OFFSETS_LIST"
   ]
  },
  {
   "cell_type": "markdown",
   "metadata": {},
   "source": [
    "The following cell will correct the offset for the participants specified in the list"
   ]
  },
  {
   "cell_type": "code",
   "execution_count": null,
   "metadata": {},
   "outputs": [],
   "source": [
    "CORRECT_OFFSETS()"
   ]
  },
  {
   "cell_type": "markdown",
   "metadata": {
    "slideshow": {
     "slide_type": "slide"
    }
   },
   "source": [
    "<a id='plot_trials'></a>\n",
    "# Plot trials\n",
    "Here you can plot any trial of each individual subject and see the summery of the fixations and saccades. "
   ]
  },
  {
   "cell_type": "code",
   "execution_count": 4,
   "metadata": {
    "code_folding": [
     0
    ],
    "scrolled": false
   },
   "outputs": [
    {
     "data": {
      "application/vnd.jupyter.widget-view+json": {
       "model_id": "c0a53e9c90d5483abcad13982b68f248",
       "version_major": 2,
       "version_minor": 0
      },
      "text/plain": [
       "Dropdown(description='Select Participant', options=('participant', 'AW001CG', 'AW002AF', 'CP001CTA'), style=De…"
      ]
     },
     "metadata": {},
     "output_type": "display_data"
    },
    {
     "data": {
      "application/vnd.jupyter.widget-view+json": {
       "model_id": "ad82003705e84983b39ec7f8850e1865",
       "version_major": 2,
       "version_minor": 0
      },
      "text/plain": [
       "Output()"
      ]
     },
     "metadata": {},
     "output_type": "display_data"
    },
    {
     "data": {
      "application/vnd.jupyter.widget-view+json": {
       "model_id": "",
       "version_major": 2,
       "version_minor": 0
      },
      "text/plain": [
       "Output()"
      ]
     },
     "metadata": {},
     "output_type": "display_data"
    }
   ],
   "source": [
    "# run cell after data is loaded\n",
    "display_dropdown_plotTrial_subjectsList()"
   ]
  },
  {
   "cell_type": "markdown",
   "metadata": {},
   "source": [
    "# Results"
   ]
  },
  {
   "cell_type": "code",
   "execution_count": 5,
   "metadata": {
    "code_folding": [
     0
    ]
   },
   "outputs": [
    {
     "data": {
      "application/vnd.jupyter.widget-view+json": {
       "model_id": "a45e4fb50ba24e4f849656c208849244",
       "version_major": 2,
       "version_minor": 0
      },
      "text/plain": [
       "interactive(children=(Dropdown(description='what', options={'Latency of the center fixations relative to fixat…"
      ]
     },
     "metadata": {},
     "output_type": "display_data"
    },
    {
     "data": {
      "text/plain": [
       "<function __main__.plotResults_step1(what, condition, for_which_display, title='', ylabel='', SHOW=False, return_output=False)>"
      ]
     },
     "execution_count": 5,
     "metadata": {},
     "output_type": "execute_result"
    }
   ],
   "source": [
    "#\n",
    "interact(plotResults_step1,what=what_list,condition=which_condition,for_which_display= which_display if len(which_display)>1 else fixed(None),title='',ylabel='',SHOW=fixed(True),return_output=fixed(False))"
   ]
  }
 ],
 "metadata": {
  "kernelspec": {
   "display_name": "Python 3",
   "language": "python",
   "name": "python3"
  },
  "language_info": {
   "codemirror_mode": {
    "name": "ipython",
    "version": 3
   },
   "file_extension": ".py",
   "mimetype": "text/x-python",
   "name": "python",
   "nbconvert_exporter": "python",
   "pygments_lexer": "ipython3",
   "version": "3.9.5"
  },
  "toc": {
   "nav_menu": {
    "height": "228px",
    "width": "252px"
   },
   "number_sections": false,
   "sideBar": true,
   "skip_h1_title": false,
   "title_cell": "Table of Contents",
   "title_sidebar": "Contents",
   "toc_cell": false,
   "toc_position": {
    "height": "613px",
    "left": "0px",
    "right": "1261px",
    "top": "110px",
    "width": "165px"
   },
   "toc_section_display": "block",
   "toc_window_display": true
  },
  "varInspector": {
   "cols": {
    "lenName": 16,
    "lenType": 16,
    "lenVar": 40
   },
   "kernels_config": {
    "python": {
     "delete_cmd_postfix": "",
     "delete_cmd_prefix": "del ",
     "library": "var_list.py",
     "varRefreshCmd": "print(var_dic_list())"
    },
    "r": {
     "delete_cmd_postfix": ") ",
     "delete_cmd_prefix": "rm(",
     "library": "var_list.r",
     "varRefreshCmd": "cat(var_dic_list()) "
    }
   },
   "types_to_exclude": [
    "module",
    "function",
    "builtin_function_or_method",
    "instance",
    "_Feature"
   ],
   "window_display": false
  }
 },
 "nbformat": 4,
 "nbformat_minor": 2
}
