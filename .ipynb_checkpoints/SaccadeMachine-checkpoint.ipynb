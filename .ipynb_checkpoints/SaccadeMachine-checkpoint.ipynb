{
 "cells": [
  {
   "cell_type": "raw",
   "metadata": {},
   "source": [
    "'''\n",
    "Created on Jun 16, 2017\n",
    "\n",
    "@author: Diako Mardanbegi <dmardanbeigi@gmail.com>\n",
    "\n",
    "This file is part of the SaccadeMachine software - an interactive code for analysing Pro-saccade and Anti-saccade eye tracking experiments.\n",
    "\n",
    "--------------License--------------\n",
    "This program is free software: you can redistribute it and/or modify\n",
    "it under the terms of the GNU General Public License as published by\n",
    "the Free Software Foundation, either version 3 of the License, or\n",
    "(at your option) any later version.\n",
    "This program is distributed in the hope that it will be useful,\n",
    "but WITHOUT ANY WARRANTY; without even the implied warranty of\n",
    "MERCHANTABILITY or FITNESS FOR A PARTICULAR PURPOSE.  See the\n",
    "GNU General Public License for more details.\n",
    "You should have received a copy of the GNU General Public License\n",
    "along with this program.  If not, see <http://www.gnu.org/licenses/>\n",
    "'''"
   ]
  },
  {
   "cell_type": "markdown",
   "metadata": {},
   "source": [
    "---------------------------------------------------------------"
   ]
  },
  {
   "cell_type": "markdown",
   "metadata": {
    "slideshow": {
     "slide_type": "slide"
    }
   },
   "source": [
    "<a id='load_dataset'></a>\n",
    "# Load Dataset\n"
   ]
  },
  {
   "cell_type": "code",
   "execution_count": null,
   "metadata": {
    "code_folding": [
     0
    ],
    "scrolled": false,
    "slideshow": {
     "slide_type": "subslide"
    }
   },
   "outputs": [],
   "source": [
    "# Loading the main functions\n",
    "%run ./main_tools.ipynb\n",
    "display_box_load()"
   ]
  },
  {
   "cell_type": "markdown",
   "metadata": {},
   "source": [
    "# Analysis for time window"
   ]
  },
  {
   "cell_type": "code",
   "execution_count": null,
   "metadata": {
    "code_folding": [
     0
    ],
    "scrolled": true
   },
   "outputs": [],
   "source": [
    "# run this cell to see the UI\n",
    "\n",
    "%run ./analysis_tools.ipynb\n",
    "Display_analysis_UI()\n",
    "\n"
   ]
  },
  {
   "cell_type": "markdown",
   "metadata": {},
   "source": [
    "# <a id='gaze_quality'></a>\n",
    "# See overal data quality\n",
    "See the overal gaze tracking quality for all participants.\n",
    "\n",
    "This also indicates how well the participant fixated on the center target at the begining of the trial"
   ]
  },
  {
   "cell_type": "code",
   "execution_count": null,
   "metadata": {
    "code_folding": [
     0
    ],
    "scrolled": false,
    "slideshow": {
     "slide_type": "subslide"
    }
   },
   "outputs": [],
   "source": [
    "# Gaze tracking quality\n",
    "PlotGazeQuality()\n",
    "# GAZE_QUALITY_TABLE[GAZE_QUALITY_TABLE.name=='mw046tw']\n",
    "# GAZE_QUALITY_TABLE.sort_values('score_overall').loc[:,['name','score_overall']].head()"
   ]
  },
  {
   "cell_type": "markdown",
   "metadata": {},
   "source": [
    "# Calibration Offset"
   ]
  },
  {
   "cell_type": "markdown",
   "metadata": {},
   "source": [
    "Set the list below containing the name and the offset to be corrected:\n",
    "\n",
    "* e.g., CORRECT_OFFSETS_LIST={'NAME':(dX , dY )}\n",
    "\n",
    "Positive dX shifts the gaze to the right, and positive dY shifts the gaze down"
   ]
  },
  {
   "cell_type": "code",
   "execution_count": null,
   "metadata": {},
   "outputs": [],
   "source": [
    "CORRECT_OFFSETS_LIST={'MC181AC2':(0,0)}"
   ]
  },
  {
   "cell_type": "markdown",
   "metadata": {},
   "source": [
    "Calibration offsets detected by SaccadeMachine"
   ]
  },
  {
   "cell_type": "code",
   "execution_count": null,
   "metadata": {
    "code_folding": [
     0
    ]
   },
   "outputs": [],
   "source": [
    "## Run this cell to see the detected gaze offsets\n",
    "CORRECT_OFFSETS_LIST.update(SuggestGazeOffsetCorrectionList())\n",
    "CORRECT_OFFSETS_LIST"
   ]
  },
  {
   "cell_type": "markdown",
   "metadata": {},
   "source": [
    "The following cell will correct the offset for the participants specified in the list"
   ]
  },
  {
   "cell_type": "code",
   "execution_count": null,
   "metadata": {},
   "outputs": [],
   "source": [
    "CORRECT_OFFSETS()"
   ]
  },
  {
   "cell_type": "markdown",
   "metadata": {
    "slideshow": {
     "slide_type": "slide"
    }
   },
   "source": [
    "<a id='plot_trials'></a>\n",
    "# Plot trials\n",
    "Here you can plot any trial of each individual subject and see the summery of the fixations and saccades. "
   ]
  },
  {
   "cell_type": "code",
   "execution_count": null,
   "metadata": {
    "code_folding": [
     0
    ],
    "scrolled": false
   },
   "outputs": [],
   "source": [
    "# run cell after data is loaded\n",
    "display_dropdown_plotTrial_subjectsList()"
   ]
  },
  {
   "cell_type": "markdown",
   "metadata": {},
   "source": [
    "# Results"
   ]
  },
  {
   "cell_type": "code",
   "execution_count": null,
   "metadata": {
    "code_folding": [
     0
    ]
   },
   "outputs": [],
   "source": [
    "#\n",
    "interact(plotResults_step1,what=what_list,condition=which_condition,for_which_display= which_display if len(which_display)>1 else fixed(None),title='',ylabel='',SHOW=fixed(True),return_output=fixed(False))"
   ]
  }
 ],
 "metadata": {
  "kernelspec": {
   "display_name": "Python 3",
   "language": "python",
   "name": "python3"
  },
  "language_info": {
   "codemirror_mode": {
    "name": "ipython",
    "version": 3
   },
   "file_extension": ".py",
   "mimetype": "text/x-python",
   "name": "python",
   "nbconvert_exporter": "python",
   "pygments_lexer": "ipython3",
   "version": "3.6.5"
  },
  "toc": {
   "nav_menu": {
    "height": "228px",
    "width": "252px"
   },
   "number_sections": false,
   "sideBar": true,
   "skip_h1_title": false,
   "title_cell": "Table of Contents",
   "title_sidebar": "Contents",
   "toc_cell": false,
   "toc_position": {
    "height": "613px",
    "left": "0px",
    "right": "1261px",
    "top": "110px",
    "width": "165px"
   },
   "toc_section_display": "block",
   "toc_window_display": true
  }
 },
 "nbformat": 4,
 "nbformat_minor": 2
}
